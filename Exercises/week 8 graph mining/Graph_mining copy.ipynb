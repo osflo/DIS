{
 "cells": [
  {
   "cell_type": "markdown",
   "metadata": {},
   "source": [
    "# Graph Mining"
   ]
  },
  {
   "cell_type": "markdown",
   "metadata": {},
   "source": [
    "## 📚 Exercise 1\n",
    "Complete the function `compute_modularity` to compute the modularity measure of a given graph.\n",
    "\n",
    "### Goal:\n",
    "1. Visualizing two graphs using `networkx` (the Karate Club graph is currently commented out in the code)\n",
    "2. Completing `compute_modularity` function that aims to measure modularity of a given graph\n",
    "\n",
    "### What you are learning in this exercise:\n",
    "1. Getting familiar with `networkx` library.\n",
    "2. Analyzing modularity measure for different graph inputs\n",
    "\n",
    "#### Hint: you can install `networkx` package by running the following command in a  notebook cell: `!conda install networkx --yes `"
   ]
  },
  {
   "cell_type": "code",
   "execution_count": 1,
   "metadata": {},
   "outputs": [
    {
     "data": {
      "image/png": "[encoded data removed]",
      "text/plain": [
       "<Figure size 640x480 with 1 Axes>"
      ]
     },
     "metadata": {},
     "output_type": "display_data"
    }
   ],
   "source": [
    "import networkx as nx\n",
    "import numpy as np\n",
    "%matplotlib inline\n",
    "\n",
    "M = [\"0,1,2\",\n",
    "\"1,0,2\",\n",
    "\"2,0,1,3\",\n",
    "\"3,2,4,5\",\n",
    "\"4,3,5\",\n",
    "\"5,3,4\"\n",
    "    ]\n",
    "G=nx.parse_adjlist(M, nodetype=int, delimiter=\",\")\n",
    "nx.draw_networkx(G)\n",
    "\n",
    "#G = nx.karate_club_graph()\n",
    "#nx.draw_networkx(G)"
   ]
  },
  {
   "cell_type": "code",
   "execution_count": 5,
   "metadata": {},
   "outputs": [],
   "source": [
    "for node in [0,1,2]:\n",
    "    G.nodes[node]['community'] = 0\n",
    "for node in [3,4,5]:\n",
    "    G.nodes[node]['community'] = 1"
   ]
  },
  {
   "cell_type": "code",
   "execution_count": 6,
   "metadata": {},
   "outputs": [],
   "source": [
    "# The community label of a node can be accessed by G[node_id]['community']\n",
    "# The degree of a node: G.degree[node_id]\n",
    "# The neighbors of a node: G.neighbors(node_id)\n",
    "# Number of edges between 2 nodes: G.number_of_edges(node_1, node_2)\n",
    "def compute_modularity(G):\n",
    "    m = len(G.edges)\n",
    "    Q = 0\n",
    "    for i in range(6):\n",
    "        for j in range(6):\n",
    "            if G.nodes[i]['community']==G.nodes[j]['community']:\n",
    "                Q+=G.number_of_edges(G[i],G[j])-G.degree[i]*G.degree[j]/2*m\n",
    "    return Q/(2*m)"
   ]
  },
  {
   "cell_type": "code",
   "execution_count": 7,
   "metadata": {},
   "outputs": [
    {
     "ename": "TypeError",
     "evalue": "unhashable type: 'AtlasView'",
     "output_type": "error",
     "traceback": [
      "\u001b[1;31m---------------------------------------------------------------------------\u001b[0m",
      "\u001b[1;31mTypeError\u001b[0m                                 Traceback (most recent call last)",
      "Cell \u001b[1;32mIn [7], line 1\u001b[0m\n\u001b[1;32m----> 1\u001b[0m compute_modularity(G)\n",
      "Cell \u001b[1;32mIn [6], line 11\u001b[0m, in \u001b[0;36mcompute_modularity\u001b[1;34m(G)\u001b[0m\n\u001b[0;32m      9\u001b[0m     \u001b[39mfor\u001b[39;00m j \u001b[39min\u001b[39;00m \u001b[39mrange\u001b[39m(\u001b[39m6\u001b[39m):\n\u001b[0;32m     10\u001b[0m         \u001b[39mif\u001b[39;00m G\u001b[39m.\u001b[39mnodes[i][\u001b[39m'\u001b[39m\u001b[39mcommunity\u001b[39m\u001b[39m'\u001b[39m]\u001b[39m==\u001b[39mG\u001b[39m.\u001b[39mnodes[j][\u001b[39m'\u001b[39m\u001b[39mcommunity\u001b[39m\u001b[39m'\u001b[39m]:\n\u001b[1;32m---> 11\u001b[0m             Q\u001b[39m+\u001b[39m\u001b[39m=\u001b[39mG\u001b[39m.\u001b[39;49mnumber_of_edges(G[i],G[j])\u001b[39m-\u001b[39mG\u001b[39m.\u001b[39mdegree[i]\u001b[39m*\u001b[39mG\u001b[39m.\u001b[39mdegree[j]\u001b[39m/\u001b[39m\u001b[39m2\u001b[39m\u001b[39m*\u001b[39mm\n\u001b[0;32m     12\u001b[0m \u001b[39mreturn\u001b[39;00m Q\u001b[39m/\u001b[39m(\u001b[39m2\u001b[39m\u001b[39m*\u001b[39mm)\n",
      "File \u001b[1;32mc:\\Users\\fosmo\\anaconda3\\lib\\site-packages\\networkx\\classes\\graph.py:1856\u001b[0m, in \u001b[0;36mGraph.number_of_edges\u001b[1;34m(self, u, v)\u001b[0m\n\u001b[0;32m   1854\u001b[0m \u001b[39mif\u001b[39;00m u \u001b[39mis\u001b[39;00m \u001b[39mNone\u001b[39;00m:\n\u001b[0;32m   1855\u001b[0m     \u001b[39mreturn\u001b[39;00m \u001b[39mint\u001b[39m(\u001b[39mself\u001b[39m\u001b[39m.\u001b[39msize())\n\u001b[1;32m-> 1856\u001b[0m \u001b[39mif\u001b[39;00m v \u001b[39min\u001b[39;00m \u001b[39mself\u001b[39;49m\u001b[39m.\u001b[39;49m_adj[u]:\n\u001b[0;32m   1857\u001b[0m     \u001b[39mreturn\u001b[39;00m \u001b[39m1\u001b[39m\n\u001b[0;32m   1858\u001b[0m \u001b[39mreturn\u001b[39;00m \u001b[39m0\u001b[39m\n",
      "\u001b[1;31mTypeError\u001b[0m: unhashable type: 'AtlasView'"
     ]
    }
   ],
   "source": [
    "compute_modularity(G) #error dans l'enonce"
   ]
  },
  {
   "cell_type": "markdown",
   "metadata": {},
   "source": [
    "## 📚 Exercise 2\n",
    "Suppose that you have an undirected social graph G = (U, V), where U - set of nodes, V - set of edges.\n",
    "\n",
    "<img src=\"graph.png\" width=\"400\">\n",
    "\n",
    "Compute betweenness for the graph G and output the communities for the following betweenness threshold : 4, 6."
   ]
  },
  {
   "cell_type": "code",
   "execution_count": null,
   "metadata": {},
   "outputs": [],
   "source": []
  }
 ],
 "metadata": {
  "kernelspec": {
   "display_name": "base",
   "language": "python",
   "name": "python3"
  },
  "language_info": {
   "codemirror_mode": {
    "name": "ipython",
    "version": 3
   },
   "file_extension": ".py",
   "mimetype": "text/x-python",
   "name": "python",
   "nbconvert_exporter": "python",
   "pygments_lexer": "ipython3",
   "version": "3.9.13"
  },
  "vscode": {
   "interpreter": {
    "hash": "45ea560201869e51ea224bd6c49e0a1394de1cf7a135b36d38ece5cec85bc412"
   }
  }
 },
 "nbformat": 4,
 "nbformat_minor": 2
}
