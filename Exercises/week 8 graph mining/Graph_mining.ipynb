{
 "cells": [
  {
   "cell_type": "markdown",
   "metadata": {},
   "source": [
    "# Graph Mining"
   ]
  },
  {
   "cell_type": "markdown",
   "metadata": {},
   "source": [
    "## 📚 Exercise 1\n",
    "Complete the function `compute_modularity` to compute the modularity measure of a given graph.\n",
    "\n",
    "### Goal:\n",
    "1. Visualizing two graphs using `networkx` (the Karate Club graph is currently commented out in the code)\n",
    "2. Completing `compute_modularity` function that aims to measure modularity of a given graph\n",
    "\n",
    "### What you are learning in this exercise:\n",
    "1. Getting familiar with `networkx` library.\n",
    "2. Analyzing modularity measure for different graph inputs\n",
    "\n",
    "#### Hint: you can install `networkx` package by running the following command in a  notebook cell: `!conda install networkx --yes `"
   ]
  },
  {
   "cell_type": "code",
   "execution_count": 2,
   "metadata": {},
   "outputs": [
    {
     "name": "stdout",
     "output_type": "stream",
     "text": [
      "Collecting package metadata (current_repodata.json): ...working... done\n",
      "Solving environment: ...working... done\n",
      "\n",
      "## Package Plan ##\n",
      "\n",
      "  environment location: D:\\logiciel\\miniconda\n",
      "\n",
      "  added / updated specs:\n",
      "    - networkx\n",
      "\n",
      "\n",
      "The following packages will be downloaded:\n",
      "\n",
      "    package                    |            build\n",
      "    ---------------------------|-----------------\n",
      "    ca-certificates-2022.10.11 |       haa95532_0         125 KB\n",
      "    openssl-1.1.1s             |       h2bbff1b_0         5.5 MB\n",
      "    ------------------------------------------------------------\n",
      "                                           Total:         5.6 MB\n",
      "\n",
      "The following packages will be UPDATED:\n",
      "\n",
      "  ca-certificates                     2022.07.19-haa95532_0 --> 2022.10.11-haa95532_0 None\n",
      "  openssl                                 1.1.1q-h2bbff1b_0 --> 1.1.1s-h2bbff1b_0 None\n",
      "\n",
      "\n",
      "\n",
      "Downloading and Extracting Packages\n",
      "\n",
      "openssl-1.1.1s       | 5.5 MB    |            |   0% \n",
      "openssl-1.1.1s       | 5.5 MB    | 2          |   3% \n",
      "openssl-1.1.1s       | 5.5 MB    | #3         |  14% \n",
      "openssl-1.1.1s       | 5.5 MB    | ##6        |  26% \n",
      "openssl-1.1.1s       | 5.5 MB    | ###9       |  39% \n",
      "openssl-1.1.1s       | 5.5 MB    | #####      |  51% \n",
      "openssl-1.1.1s       | 5.5 MB    | ######2    |  62% \n",
      "openssl-1.1.1s       | 5.5 MB    | #######3   |  74% \n",
      "openssl-1.1.1s       | 5.5 MB    | ########7  |  87% \n",
      "openssl-1.1.1s       | 5.5 MB    | ########## | 100% \n",
      "openssl-1.1.1s       | 5.5 MB    | ########## | 100% \n",
      "\n",
      "ca-certificates-2022 | 125 KB    |            |   0% \n",
      "ca-certificates-2022 | 125 KB    | ########## | 100% \n",
      "ca-certificates-2022 | 125 KB    | ########## | 100% \n",
      "Preparing transaction: ...working... done\n",
      "Verifying transaction: ...working... done\n",
      "Executing transaction: ...working... done\n",
      "Retrieving notices: ...working... done\n"
     ]
    }
   ],
   "source": [
    "!conda install networkx --yes\n"
   ]
  },
  {
   "cell_type": "code",
   "execution_count": 3,
   "metadata": {},
   "outputs": [
    {
     "data": {
      "image/png": "[encoded data removed]",
      "text/plain": [
       "<Figure size 640x480 with 1 Axes>"
      ]
     },
     "metadata": {},
     "output_type": "display_data"
    }
   ],
   "source": [
    "import networkx as nx\n",
    "import numpy as np\n",
    "%matplotlib inline\n",
    "\n",
    "M = [\"0,1,2\",\n",
    "\"1,0,2\",\n",
    "\"2,0,1,3\",\n",
    "\"3,2,4,5\",\n",
    "\"4,3,5\",\n",
    "\"5,3,4\"\n",
    "    ]\n",
    "G=nx.parse_adjlist(M, nodetype=int, delimiter=\",\")\n",
    "nx.draw_networkx(G)\n",
    "\n",
    "#G = nx.karate_club_graph()\n",
    "#nx.draw_networkx(G)"
   ]
  },
  {
   "cell_type": "code",
   "execution_count": 4,
   "metadata": {},
   "outputs": [],
   "source": [
    "for node in [0,1,2]:\n",
    "    G.nodes[node]['community'] = 0\n",
    "for node in [3,4,5]:\n",
    "    G.nodes[node]['community'] = 1"
   ]
  },
  {
   "cell_type": "code",
   "execution_count": 5,
   "metadata": {},
   "outputs": [],
   "source": [
    "# The community label of a node can be accessed by G[node_id]['community'] <==wrong see sol\n",
    "# The degree of a node: G.degree[node_id]\n",
    "# The neighbors of a node: G.neighbors(node_id)\n",
    "# Number of edges between 2 nodes: G.number_of_edges(node_1, node_2)\n",
    "def compute_modularity(G):\n",
    "    m = len(G.edges)\n",
    "    Q = 0\n",
    "    # your code here\n",
    "    for node in G.nodes:\n",
    "        for neighbor in G.neighbors(node): #take in all nodes\n",
    "            if G[node]['community']==G[neighbor]['community']:\n",
    "                A=G.number_of_edges(node,neighbor)\n",
    "                k1=G.degree[node]\n",
    "                k2=G.degree[neighbor]\n",
    "                Q=Q+(A-k1*k2/(2*m))\n",
    "    return Q/(2*m)"
   ]
  },
  {
   "cell_type": "code",
   "execution_count": 6,
   "metadata": {},
   "outputs": [
    {
     "ename": "KeyError",
     "evalue": "'community'",
     "output_type": "error",
     "traceback": [
      "\u001b[1;31m---------------------------------------------------------------------------\u001b[0m",
      "\u001b[1;31mKeyError\u001b[0m                                  Traceback (most recent call last)",
      "\u001b[1;32mc:\\Users\\fosmo\\OneDrive\\Documents\\GitHub\\DISbis\\Exercises\\week 8\\Graph_mining.ipynb Cellule 7\u001b[0m in \u001b[0;36m<cell line: 1>\u001b[1;34m()\u001b[0m\n\u001b[1;32m----> <a href='vscode-notebook-cell:/c%3A/Users/fosmo/OneDrive/Documents/GitHub/DISbis/Exercises/week%208/Graph_mining.ipynb#W5sZmlsZQ%3D%3D?line=0'>1</a>\u001b[0m compute_modularity(G)\n",
      "\u001b[1;32mc:\\Users\\fosmo\\OneDrive\\Documents\\GitHub\\DISbis\\Exercises\\week 8\\Graph_mining.ipynb Cellule 7\u001b[0m in \u001b[0;36mcompute_modularity\u001b[1;34m(G)\u001b[0m\n\u001b[0;32m      <a href='vscode-notebook-cell:/c%3A/Users/fosmo/OneDrive/Documents/GitHub/DISbis/Exercises/week%208/Graph_mining.ipynb#W5sZmlsZQ%3D%3D?line=8'>9</a>\u001b[0m \u001b[39mfor\u001b[39;00m node \u001b[39min\u001b[39;00m G\u001b[39m.\u001b[39mnodes:\n\u001b[0;32m     <a href='vscode-notebook-cell:/c%3A/Users/fosmo/OneDrive/Documents/GitHub/DISbis/Exercises/week%208/Graph_mining.ipynb#W5sZmlsZQ%3D%3D?line=9'>10</a>\u001b[0m     \u001b[39mfor\u001b[39;00m neighbor \u001b[39min\u001b[39;00m G\u001b[39m.\u001b[39mneighbors(node):\n\u001b[1;32m---> <a href='vscode-notebook-cell:/c%3A/Users/fosmo/OneDrive/Documents/GitHub/DISbis/Exercises/week%208/Graph_mining.ipynb#W5sZmlsZQ%3D%3D?line=10'>11</a>\u001b[0m         \u001b[39mif\u001b[39;00m G[node][\u001b[39m'\u001b[39;49m\u001b[39mcommunity\u001b[39;49m\u001b[39m'\u001b[39;49m]\u001b[39m==\u001b[39mG[neighbor][\u001b[39m'\u001b[39m\u001b[39mcommunity\u001b[39m\u001b[39m'\u001b[39m]:\n\u001b[0;32m     <a href='vscode-notebook-cell:/c%3A/Users/fosmo/OneDrive/Documents/GitHub/DISbis/Exercises/week%208/Graph_mining.ipynb#W5sZmlsZQ%3D%3D?line=11'>12</a>\u001b[0m             A\u001b[39m=\u001b[39mG\u001b[39m.\u001b[39mnumber_of_edges(node,neighbor)\n\u001b[0;32m     <a href='vscode-notebook-cell:/c%3A/Users/fosmo/OneDrive/Documents/GitHub/DISbis/Exercises/week%208/Graph_mining.ipynb#W5sZmlsZQ%3D%3D?line=12'>13</a>\u001b[0m             k1\u001b[39m=\u001b[39mG\u001b[39m.\u001b[39mdegree[node]\n",
      "File \u001b[1;32md:\\logiciel\\miniconda\\lib\\site-packages\\networkx\\classes\\coreviews.py:54\u001b[0m, in \u001b[0;36mAtlasView.__getitem__\u001b[1;34m(self, key)\u001b[0m\n\u001b[0;32m     53\u001b[0m \u001b[39mdef\u001b[39;00m \u001b[39m__getitem__\u001b[39m(\u001b[39mself\u001b[39m, key):\n\u001b[1;32m---> 54\u001b[0m     \u001b[39mreturn\u001b[39;00m \u001b[39mself\u001b[39;49m\u001b[39m.\u001b[39;49m_atlas[key]\n",
      "\u001b[1;31mKeyError\u001b[0m: 'community'"
     ]
    }
   ],
   "source": [
    "compute_modularity(G)"
   ]
  },
  {
   "cell_type": "markdown",
   "metadata": {},
   "source": [
    "## 📚 Exercise 2\n",
    "Suppose that you have an undirected social graph G = (U, V), where U - set of nodes, V - set of edges.\n",
    "\n",
    "<img src=\"graph.png\" width=\"400\">\n",
    "\n",
    "Compute betweenness for the graph G and output the communities for the following betweenness threshold : 4, 6."
   ]
  },
  {
   "cell_type": "markdown",
   "metadata": {},
   "source": [
    "number of shortest path going througt: #only count once v1-v2 and v2-v1\n",
    "betweenness at step 0:\n",
    "AB:5\n",
    "AC:1\n",
    "CB:5\n",
    "BD:3*4=12\n",
    "DE:4+1/2=4.5\n",
    "DG:4+1/2=4.5\n",
    "DF:4\n",
    "EF:1+1/2=1.5\n",
    "GF:1+1/2=1.5\n",
    "attention shortest path g to e : 2 possibilities : gfe or gde\n",
    "\n",
    "threshold : remove all adge with a betweenness superior or = to the threshold\n",
    "\n"
   ]
  },
  {
   "cell_type": "code",
   "execution_count": null,
   "metadata": {},
   "outputs": [],
   "source": []
  }
 ],
 "metadata": {
  "kernelspec": {
   "display_name": "Python 3.9.5 ('base')",
   "language": "python",
   "name": "python3"
  },
  "language_info": {
   "codemirror_mode": {
    "name": "ipython",
    "version": 3
   },
   "file_extension": ".py",
   "mimetype": "text/x-python",
   "name": "python",
   "nbconvert_exporter": "python",
   "pygments_lexer": "ipython3",
   "version": "3.9.5"
  },
  "vscode": {
   "interpreter": {
    "hash": "421272cbf3939b835604506f9ba76b0a3d4ecc71622f2685fa1b29b90be7a285"
   }
  }
 },
 "nbformat": 4,
 "nbformat_minor": 2
}
