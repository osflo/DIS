{
 "cells": [
  {
   "cell_type": "markdown",
   "metadata": {},
   "source": [
    "# 📚 Exercise 12: Semantic Web\n",
    "\n",
    "In this exercise, we will understand the functioning of RDF statements and their applications.\n",
    "\n",
    "## Overview:\n",
    "You are an engineer parsing ancient greek literature. You are overwhelmed by the mythical heroes and their stories, that you decide to put structure on this textual knowledge. You will need to parse the given sentences and create a Knowledge Graph that represents the information of the text to be easily searched.\n",
    "\n",
    "## Goal:\n",
    "1. Create a Knowledge Graph from a given text.\n",
    "2. Perform queries on the KG.\n",
    "3. Insert new knowledge and re-run queries.\n",
    "\n",
    "## What are you learning in this exercise:\n",
    "- Conceptualize and apply the RDF creation derived from the text.\n",
    "- Run queries on Knowledge Graphs."
   ]
  },
  {
   "cell_type": "markdown",
   "metadata": {},
   "source": [
    "### Task 1: Create a Knowledge Graph\n",
    "\n",
    "Consider the following sentences:\n",
    "\n",
    "```Aphrodite and Eros are Gods.```\n",
    "\n",
    "```Aphrodite is a parent of Eros.```\n",
    "\n",
    "```Aphrodite is beautiful.```\n",
    "\n",
    "```Aphrodite is happy.```"
   ]
  },
  {
   "cell_type": "markdown",
   "metadata": {},
   "source": [
    "> #### 1) Formalize these sentences as RDF statements. Use a python dictionary to indicate the *subject*, *predicate* and *object* of a statement."
   ]
  },
  {
   "cell_type": "code",
   "execution_count": 1,
   "metadata": {},
   "outputs": [],
   "source": [
    "statements = []\n",
    "#statement template: {'s':'', 'p':'', 'o':''}\n",
    "# ---- YOUR CODE HERE -----\n",
    "statements.append({'s':'Aphrodite','p':'isa','o':'God'})  \n",
    "statements.append({'s':'Eros','p':'isa','o':'God'})  \n",
    "statements.append({'s':'Aphrodite','p':'IsParentOf','o':'Eros'})  \n",
    "statements.append({'s':'Aphrodite','p':'isa','o':'beautiful'})  \n",
    "statements.append({'s':'Aphrodite','p':'isa','o':'happy'})\n",
    "# -------------------------"
   ]
  },
  {
   "cell_type": "markdown",
   "metadata": {},
   "source": [
    "> #### 2) Specify which are the *classes*, the *instances* and the *properties* in the above statements.\n"
   ]
  },
  {
   "attachments": {},
   "cell_type": "markdown",
   "metadata": {},
   "source": [
    "- Classes: God,happy, beautiful\n",
    "- Instances: Eros, Aphrodite\n",
    "- Properties: isa, isparentof"
   ]
  },
  {
   "cell_type": "markdown",
   "metadata": {},
   "source": [
    "> #### 3) Pose the following query to your Knowledge Graph and show the results.\n",
    "    Who is happy?"
   ]
  },
  {
   "cell_type": "code",
   "execution_count": 4,
   "metadata": {},
   "outputs": [
    {
     "name": "stdout",
     "output_type": "stream",
     "text": [
      "['Aphrodite']\n"
     ]
    }
   ],
   "source": [
    "def query():\n",
    "    results = []\n",
    "    # ---- YOUR CODE HERE -----\n",
    "    for stat in statements:\n",
    "        if stat['o']=='happy' and stat['p']=='isa':\n",
    "            results.append(stat['s'])\n",
    "    \n",
    "    # -------------------------\n",
    "    print(results)\n",
    "\n",
    "query()"
   ]
  },
  {
   "cell_type": "markdown",
   "metadata": {},
   "source": [
    "### Task 2: Derive new Knowledge\n",
    "\n",
    "Now consider the following inference rules:\n",
    "\n",
    "``` Every person is happy if one of his/her parents is successful. ```\n",
    "\n",
    "``` All happy persons are successful. ```"
   ]
  },
  {
   "cell_type": "markdown",
   "metadata": {},
   "source": [
    "> #### 1) Transform and apply them to your Knowledge Graph. Include the new statements that will be derived in the Knowledge Graph."
   ]
  },
  {
   "cell_type": "code",
   "execution_count": 6,
   "metadata": {},
   "outputs": [],
   "source": [
    "def inference():\n",
    "    \n",
    "    new_statements = True\n",
    "\n",
    "    while (new_statements):\n",
    "        new_statements = False\n",
    "        \n",
    "        # ---- YOUR CODE HERE -----\n",
    "        for s in statements:\n",
    "            if s['p']=='IsParentOf' :\n",
    "                for s2 in statements:\n",
    "                    if s2['s']==s['s'] and s2['p']=='isa' and s2['o']=='successful':\n",
    "                        stat=({'s':s['o'],'p':'isa','o':'happy'})\n",
    "                        if stat not in statements:\n",
    "                            statements.append(stat)\n",
    "                            new_statements=True\n",
    "            if s['p']=='isa' and s['o']=='happy':\n",
    "                stat={'s':s['s'],'p':'isa','o':'successful'}\n",
    "                if stat not in statements:\n",
    "                    statements.append({'s':s['s'],'p':'isa','o':'successful'})\n",
    "                    new_statements=True\n",
    "        # -------------------------"
   ]
  },
  {
   "cell_type": "markdown",
   "metadata": {},
   "source": [
    "> #### 2) Give an example of a rule that would bring incosistency in the Knowledge Graph. "
   ]
  },
  {
   "cell_type": "markdown",
   "metadata": {},
   "source": [
    "..."
   ]
  },
  {
   "cell_type": "markdown",
   "metadata": {},
   "source": [
    "> #### 3) Pose again the query from Question 3 of Task 1. Are you getting the same results?"
   ]
  },
  {
   "cell_type": "code",
   "execution_count": 7,
   "metadata": {},
   "outputs": [
    {
     "name": "stdout",
     "output_type": "stream",
     "text": [
      "['Aphrodite', 'Eros']\n"
     ]
    }
   ],
   "source": [
    "inference()\n",
    "query()"
   ]
  },
  {
   "cell_type": "markdown",
   "metadata": {},
   "source": [
    "Credits @ [Knowledge Technologies (PMS509)](http://cgi.di.uoa.gr/~pms509)"
   ]
  }
 ],
 "metadata": {
  "kernelspec": {
   "display_name": "base",
   "language": "python",
   "name": "python3"
  },
  "language_info": {
   "codemirror_mode": {
    "name": "ipython",
    "version": 3
   },
   "file_extension": ".py",
   "mimetype": "text/x-python",
   "name": "python",
   "nbconvert_exporter": "python",
   "pygments_lexer": "ipython3",
   "version": "3.9.13"
  },
  "toc": {
   "colors": {
    "hover_highlight": "#DAA520",
    "navigate_num": "#000000",
    "navigate_text": "#333333",
    "running_highlight": "#FF0000",
    "selected_highlight": "#FFD700",
    "sidebar_border": "#EEEEEE",
    "wrapper_background": "#FFFFFF"
   },
   "moveMenuLeft": true,
   "nav_menu": {
    "height": "228px",
    "width": "252px"
   },
   "navigate_menu": true,
   "number_sections": true,
   "sideBar": true,
   "threshold": 4,
   "toc_cell": false,
   "toc_section_display": "block",
   "toc_window_display": false,
   "widenNotebook": false
  },
  "vscode": {
   "interpreter": {
    "hash": "45ea560201869e51ea224bd6c49e0a1394de1cf7a135b36d38ece5cec85bc412"
   }
  }
 },
 "nbformat": 4,
 "nbformat_minor": 1
}
