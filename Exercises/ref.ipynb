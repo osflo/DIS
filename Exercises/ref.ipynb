{
 "cells": [
  {
   "cell_type": "code",
   "execution_count": null,
   "metadata": {},
   "outputs": [],
   "source": [
    "import numpy as np"
   ]
  },
  {
   "attachments": {},
   "cell_type": "markdown",
   "metadata": {},
   "source": [
    "Numpy general"
   ]
  },
  {
   "cell_type": "code",
   "execution_count": null,
   "metadata": {},
   "outputs": [],
   "source": [
    "L = np.zeros((n_nodes, n_nodes))\n",
    "np.linalg.norm(P,2) #for sum take 1\n",
    "np.linalg.eig(P)\n",
    "#Take max eigen value:\n",
    "np.absolute(eigenvectors[:,np.argmax(np.absolute(eigenvalues))])"
   ]
  },
  {
   "attachments": {},
   "cell_type": "markdown",
   "metadata": {},
   "source": [
    "open files"
   ]
  },
  {
   "cell_type": "code",
   "execution_count": null,
   "metadata": {},
   "outputs": [],
   "source": [
    "with open(\"ca-GrQc.txt\") as f: # don't forget\n",
    "\n",
    "#For file with nodes nodes (s7)\n",
    "    n_nodes = 0\n",
    "    nodes_idx = dict() \n",
    "    nodes = []\n",
    "    for line in f:\n",
    "            if '#' not in line: #don't forget remove useless lines\n",
    "                source = int(line.split()[0])\n",
    "                target = int(line.split()[1])\n",
    "                if source not in nodes_idx.keys():\n",
    "                    nodes_idx[source] = n_nodes\n",
    "                    nodes.append(source)\n",
    "                    n_nodes += 1\n",
    "                if target not in nodes_idx.keys():\n",
    "                    nodes_idx[target] = n_nodes\n",
    "                    nodes.append(target)\n",
    "                    n_nodes += 1\n",
    "\n",
    "#cvs :\n",
    "df = pd.read_csv('data/ml-100k/u.data', sep='\\t', names=header)\n",
    "n_users = df.user_id.unique().shape[0]\n",
    "df.describe()\n",
    "#data from df : how to go line by line\n",
    "for line in data.itertuples():\n",
    "        data_matrix[line[1]-1, line[2]-1] = line[3]"
   ]
  },
  {
   "attachments": {},
   "cell_type": "markdown",
   "metadata": {},
   "source": [
    "General :"
   ]
  },
  {
   "cell_type": "code",
   "execution_count": null,
   "metadata": {},
   "outputs": [],
   "source": [
    "#top k , p proba vector\n",
    "arr = np.array(p[:,0])\n",
    "k = 3\n",
    "k_idx = arr.argsort()[-k:][:3] # index of top-k nodes\n",
    "\n",
    "#different\n",
    "n_users = df.user_id.unique().shape[0]\n",
    "#non zeros\n",
    ".nonzero()\n",
    ".flatten()"
   ]
  },
  {
   "attachments": {},
   "cell_type": "markdown",
   "metadata": {},
   "source": [
    "Pytorch"
   ]
  },
  {
   "cell_type": "code",
   "execution_count": null,
   "metadata": {},
   "outputs": [],
   "source": [
    "train_set = TextClassificationDataset.build_vocab(tokenizer, split='train', min_freq=2)\n",
    "model = AttentionModel(train_set.vocab_size(),train_set.num_classes())\n",
    "ce_loss = nn.CrossEntropyLoss()\n",
    "optimizer = torch.optim.Adam(model.parameters(),lr=0.001)\n",
    "train_dataloader = DataLoader(train_set,batch_size=128, shuffle=True, collate_fn=model.collate_batch)\n",
    "\n",
    "test_set = TextClassificationDataset(tokenizer, text_vocab=train_set.text_vocab, label_vocab=train_set.label_vocab,\n",
    "    split='test')\n",
    "\n",
    "test_dataloader = DataLoader(test_set, batch_size=128*2, shuffle=False, collate_fn=model.collate_batch)\n",
    "#Attention le vocab est defini par le train set, si test avec Knn utiliser le vocab du train"
   ]
  },
  {
   "attachments": {},
   "cell_type": "markdown",
   "metadata": {},
   "source": [
    "Similarity computation"
   ]
  },
  {
   "cell_type": "code",
   "execution_count": null,
   "metadata": {},
   "outputs": [],
   "source": [
    "from sklearn.metrics.pairwise import pairwise_distances\n",
    "item_similarity = 1-pairwise_distances(train_data_matrix.T, metric='cosine') \n",
    "#train data matrix has line user col item, here similarity btw items"
   ]
  }
 ],
 "metadata": {
  "kernelspec": {
   "display_name": "base",
   "language": "python",
   "name": "python3"
  },
  "language_info": {
   "name": "python",
   "version": "3.9.13 (main, Oct 13 2022, 21:23:06) [MSC v.1916 64 bit (AMD64)]"
  },
  "orig_nbformat": 4,
  "vscode": {
   "interpreter": {
    "hash": "45ea560201869e51ea224bd6c49e0a1394de1cf7a135b36d38ece5cec85bc412"
   }
  }
 },
 "nbformat": 4,
 "nbformat_minor": 2
}
